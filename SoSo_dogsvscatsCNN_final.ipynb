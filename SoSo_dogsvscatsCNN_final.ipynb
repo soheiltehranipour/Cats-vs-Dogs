{
  "nbformat": 4,
  "nbformat_minor": 0,
  "metadata": {
    "colab": {
      "name": "dogsvscatsCNN_final.ipynb",
      "provenance": [],
      "collapsed_sections": []
    },
    "kernelspec": {
      "name": "python3",
      "display_name": "Python 3"
    },
    "accelerator": "GPU"
  },
  "cells": [
    {
      "cell_type": "markdown",
      "metadata": {
        "id": "ibzpSDTbyYBE",
        "colab_type": "text"
      },
      "source": [
        "# Downloading of dataset from Kaggle"
      ]
    },
    {
      "cell_type": "code",
      "metadata": {
        "id": "m1BeL_3xx-F6",
        "colab_type": "code",
        "outputId": "43895edd-b8bb-4eca-f00a-6e72cdbf16a3",
        "colab": {
          "resources": {
            "http://localhost:8080/nbextensions/google.colab/files.js": {
              "data": "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",
              "ok": true,
              "headers": [
                [
                  "content-type",
                  "application/javascript"
                ]
              ],
              "status": 200,
              "status_text": "OK"
            }
          },
          "base_uri": "https://localhost:8080/",
          "height": 100
        }
      },
      "source": [
        "# Run this cell and select the kaggle.json file downloaded\n",
        "# from the Kaggle account settings page.\n",
        "from google.colab import files\n",
        "files.upload()"
      ],
      "execution_count": 1,
      "outputs": [
        {
          "output_type": "display_data",
          "data": {
            "text/html": [
              "\n",
              "     <input type=\"file\" id=\"files-38fc17b9-b5ce-4fae-b238-de011478716d\" name=\"files[]\" multiple disabled />\n",
              "     <output id=\"result-38fc17b9-b5ce-4fae-b238-de011478716d\">\n",
              "      Upload widget is only available when the cell has been executed in the\n",
              "      current browser session. Please rerun this cell to enable.\n",
              "      </output>\n",
              "      <script src=\"/nbextensions/google.colab/files.js\"></script> "
            ],
            "text/plain": [
              "<IPython.core.display.HTML object>"
            ]
          },
          "metadata": {
            "tags": []
          }
        },
        {
          "output_type": "stream",
          "text": [
            "Saving kaggle.json to kaggle.json\n"
          ],
          "name": "stdout"
        },
        {
          "output_type": "execute_result",
          "data": {
            "text/plain": [
              "{'kaggle.json': b'{\"username\":\"soheiltehranipour\",\"key\":\"ec6149a70b5ccf71fcb9061193bdcd92\"}'}"
            ]
          },
          "metadata": {
            "tags": []
          },
          "execution_count": 1
        }
      ]
    },
    {
      "cell_type": "code",
      "metadata": {
        "id": "3JjKIrg1yG-F",
        "colab_type": "code",
        "outputId": "362f5cf9-d132-419c-ac20-c2668255a328",
        "colab": {
          "base_uri": "https://localhost:8080/",
          "height": 34
        }
      },
      "source": [
        "# Let's make sure the kaggle.json file is present.\n",
        "!ls -lha kaggle.json"
      ],
      "execution_count": 3,
      "outputs": [
        {
          "output_type": "stream",
          "text": [
            "-rw-r--r-- 1 root root 73 Mar 12 13:39 kaggle.json\n"
          ],
          "name": "stdout"
        }
      ]
    },
    {
      "cell_type": "code",
      "metadata": {
        "id": "Djl-P00MyObX",
        "colab_type": "code",
        "colab": {}
      },
      "source": [
        "# Next, install the Kaggle API client.\n",
        "!pip install -q kaggle"
      ],
      "execution_count": 0,
      "outputs": []
    },
    {
      "cell_type": "code",
      "metadata": {
        "id": "XdxdoM-ayRjN",
        "colab_type": "code",
        "colab": {}
      },
      "source": [
        "# The Kaggle API client expects this file to be in ~/.kaggle,\n",
        "# so move it there.\n",
        "!mkdir -p ~/.kaggle\n",
        "!cp kaggle.json ~/.kaggle/\n",
        "\n",
        "# This permissions change avoids a warning on Kaggle tool startup.\n",
        "!chmod 600 ~/.kaggle/kaggle.json"
      ],
      "execution_count": 0,
      "outputs": []
    },
    {
      "cell_type": "code",
      "metadata": {
        "id": "GhC7ZU5lyT-W",
        "colab_type": "code",
        "outputId": "79d6ad0e-ce5b-47c4-e6f4-2ec76c3dcf00",
        "colab": {
          "base_uri": "https://localhost:8080/",
          "height": 191
        }
      },
      "source": [
        "!kaggle competitions download -c dogs-vs-cats"
      ],
      "execution_count": 6,
      "outputs": [
        {
          "output_type": "stream",
          "text": [
            "Warning: Looks like you're using an outdated API Version, please consider updating (server 1.5.6 / client 1.5.4)\n",
            "Downloading sampleSubmission.csv to /content\n",
            "  0% 0.00/86.8k [00:00<?, ?B/s]\n",
            "100% 86.8k/86.8k [00:00<00:00, 84.4MB/s]\n",
            "Downloading test1.zip to /content\n",
            " 95% 258M/271M [00:03<00:00, 86.4MB/s]\n",
            "100% 271M/271M [00:03<00:00, 72.5MB/s]\n",
            "Downloading train.zip to /content\n",
            " 99% 539M/543M [00:05<00:00, 112MB/s]\n",
            "100% 543M/543M [00:05<00:00, 108MB/s]\n"
          ],
          "name": "stdout"
        }
      ]
    },
    {
      "cell_type": "code",
      "metadata": {
        "id": "mXTYg72iyW5g",
        "colab_type": "code",
        "outputId": "023833e7-3bf6-49a3-b41f-04e7b158c256",
        "colab": {
          "base_uri": "https://localhost:8080/",
          "height": 34
        }
      },
      "source": [
        "!ls"
      ],
      "execution_count": 7,
      "outputs": [
        {
          "output_type": "stream",
          "text": [
            "kaggle.json  sample_data  sampleSubmission.csv\ttest1.zip  train.zip\n"
          ],
          "name": "stdout"
        }
      ]
    },
    {
      "cell_type": "code",
      "metadata": {
        "id": "QjOBS7sHy3ZK",
        "colab_type": "code",
        "outputId": "66ac905a-332e-48af-ea67-826552d3886d",
        "colab": {
          "base_uri": "https://localhost:8080/",
          "height": 52
        }
      },
      "source": [
        "from zipfile import ZipFile\n",
        "\n",
        "file_name = \"train.zip\"\n",
        "\n",
        "# opening the zip file in read me mode\n",
        "with ZipFile(file_name, 'r') as zip :\n",
        "  print(\"Extracting the files...\")\n",
        "  zip.extractall()\n",
        "  print(\"Done\")"
      ],
      "execution_count": 8,
      "outputs": [
        {
          "output_type": "stream",
          "text": [
            "Extracting the files...\n",
            "Done\n"
          ],
          "name": "stdout"
        }
      ]
    },
    {
      "cell_type": "code",
      "metadata": {
        "id": "9tCvrQiSy6eg",
        "colab_type": "code",
        "outputId": "c807948b-c514-4526-89bf-ece0b10f7e04",
        "colab": {
          "base_uri": "https://localhost:8080/",
          "height": 52
        }
      },
      "source": [
        "file_name = \"test1.zip\"\n",
        "\n",
        "# opening the zip file in read me mode\n",
        "with ZipFile(file_name, 'r') as zip :\n",
        "  print(\"Extracting the files...\")\n",
        "  zip.extractall()\n",
        "  print(\"Done\")"
      ],
      "execution_count": 9,
      "outputs": [
        {
          "output_type": "stream",
          "text": [
            "Extracting the files...\n",
            "Done\n"
          ],
          "name": "stdout"
        }
      ]
    },
    {
      "cell_type": "code",
      "metadata": {
        "id": "xD_KIUqcy_bF",
        "colab_type": "code",
        "outputId": "467a3c25-17e2-48b3-bd2a-da546980e373",
        "colab": {
          "base_uri": "https://localhost:8080/",
          "height": 52
        }
      },
      "source": [
        "!ls"
      ],
      "execution_count": 10,
      "outputs": [
        {
          "output_type": "stream",
          "text": [
            "kaggle.json  sampleSubmission.csv  test1.zip  train.zip\n",
            "sample_data  test1\t\t   train\n"
          ],
          "name": "stdout"
        }
      ]
    },
    {
      "cell_type": "markdown",
      "metadata": {
        "id": "1sF6UCFWyhdT",
        "colab_type": "text"
      },
      "source": [
        "# Importing Libraries"
      ]
    },
    {
      "cell_type": "code",
      "metadata": {
        "id": "jR5IY9Cckz3Q",
        "colab_type": "code",
        "outputId": "081c00e3-7a7d-4726-a71d-5047bc44929f",
        "colab": {
          "base_uri": "https://localhost:8080/",
          "height": 220
        }
      },
      "source": [
        "import os, cv2, itertools\n",
        "import numpy as np\n",
        "import pandas as pd\n",
        "\n",
        "import matplotlib.pyplot as plt\n",
        "%matplotlib inline\n",
        "\n",
        "!pip install np_utils\n",
        "\n",
        "from keras.utils.np_utils import to_categorical\n",
        "\n",
        "from keras.models import Sequential\n",
        "from keras.layers import Conv2D\n",
        "from keras.layers import MaxPooling2D\n",
        "from keras.layers import Flatten\n",
        "from keras.layers import Dense\n",
        "from keras.layers import Dropout\n",
        "\n",
        "from sklearn.utils import shuffle\n",
        "\n",
        "!pip install sklearn\n",
        "import sklearn\n",
        "from sklearn.model_selection import train_test_split"
      ],
      "execution_count": 11,
      "outputs": [
        {
          "output_type": "stream",
          "text": [
            "Requirement already satisfied: np_utils in /usr/local/lib/python3.6/dist-packages (0.5.12.1)\n",
            "Requirement already satisfied: numpy>=1.0 in /usr/local/lib/python3.6/dist-packages (from np_utils) (1.17.5)\n",
            "Requirement already satisfied: future>=0.16 in /usr/local/lib/python3.6/dist-packages (from np_utils) (0.16.0)\n"
          ],
          "name": "stdout"
        },
        {
          "output_type": "stream",
          "text": [
            "Using TensorFlow backend.\n"
          ],
          "name": "stderr"
        },
        {
          "output_type": "display_data",
          "data": {
            "text/html": [
              "<p style=\"color: red;\">\n",
              "The default version of TensorFlow in Colab will soon switch to TensorFlow 2.x.<br>\n",
              "We recommend you <a href=\"https://www.tensorflow.org/guide/migrate\" target=\"_blank\">upgrade</a> now \n",
              "or ensure your notebook will continue to use TensorFlow 1.x via the <code>%tensorflow_version 1.x</code> magic:\n",
              "<a href=\"https://colab.research.google.com/notebooks/tensorflow_version.ipynb\" target=\"_blank\">more info</a>.</p>\n"
            ],
            "text/plain": [
              "<IPython.core.display.HTML object>"
            ]
          },
          "metadata": {
            "tags": []
          }
        },
        {
          "output_type": "stream",
          "text": [
            "Requirement already satisfied: sklearn in /usr/local/lib/python3.6/dist-packages (0.0)\n",
            "Requirement already satisfied: scikit-learn in /usr/local/lib/python3.6/dist-packages (from sklearn) (0.22.1)\n",
            "Requirement already satisfied: joblib>=0.11 in /usr/local/lib/python3.6/dist-packages (from scikit-learn->sklearn) (0.14.1)\n",
            "Requirement already satisfied: numpy>=1.11.0 in /usr/local/lib/python3.6/dist-packages (from scikit-learn->sklearn) (1.17.5)\n",
            "Requirement already satisfied: scipy>=0.17.0 in /usr/local/lib/python3.6/dist-packages (from scikit-learn->sklearn) (1.4.1)\n"
          ],
          "name": "stdout"
        }
      ]
    },
    {
      "cell_type": "code",
      "metadata": {
        "id": "GENp8DD_yfKE",
        "colab_type": "code",
        "colab": {}
      },
      "source": [
        "import os, cv2, itertools\n",
        "import numpy as np\n",
        "import pandas as pd\n",
        "\n",
        "import matplotlib.pyplot as plt\n",
        "%matplotlib inline"
      ],
      "execution_count": 0,
      "outputs": []
    },
    {
      "cell_type": "code",
      "metadata": {
        "id": "y4U67W1bymDL",
        "colab_type": "code",
        "outputId": "c2b2b06a-2591-4e89-e451-e9b0cab27592",
        "colab": {
          "base_uri": "https://localhost:8080/",
          "height": 69
        }
      },
      "source": [
        "!pip install np_utils"
      ],
      "execution_count": 13,
      "outputs": [
        {
          "output_type": "stream",
          "text": [
            "Requirement already satisfied: np_utils in /usr/local/lib/python3.6/dist-packages (0.5.12.1)\n",
            "Requirement already satisfied: future>=0.16 in /usr/local/lib/python3.6/dist-packages (from np_utils) (0.16.0)\n",
            "Requirement already satisfied: numpy>=1.0 in /usr/local/lib/python3.6/dist-packages (from np_utils) (1.17.5)\n"
          ],
          "name": "stdout"
        }
      ]
    },
    {
      "cell_type": "code",
      "metadata": {
        "id": "QQETVWWsCr64",
        "colab_type": "code",
        "colab": {}
      },
      "source": [
        "from keras.utils.np_utils import to_categorical"
      ],
      "execution_count": 0,
      "outputs": []
    },
    {
      "cell_type": "code",
      "metadata": {
        "id": "y3IiSxVuDM3q",
        "colab_type": "code",
        "colab": {}
      },
      "source": [
        "from keras.models import Sequential\n",
        "from keras.layers import Conv2D\n",
        "from keras.layers import MaxPooling2D\n",
        "from keras.layers import Flatten\n",
        "from keras.layers import Dense\n",
        "from keras.layers import Dropout"
      ],
      "execution_count": 0,
      "outputs": []
    },
    {
      "cell_type": "code",
      "metadata": {
        "id": "u1SRYY28_3iX",
        "colab_type": "code",
        "colab": {}
      },
      "source": [
        "from sklearn.utils import shuffle"
      ],
      "execution_count": 0,
      "outputs": []
    },
    {
      "cell_type": "code",
      "metadata": {
        "id": "t5R7DqLYPGnf",
        "colab_type": "code",
        "outputId": "3467afca-44d2-4f6c-cb33-f62cdf7a32ec",
        "colab": {
          "base_uri": "https://localhost:8080/",
          "height": 104
        }
      },
      "source": [
        "!pip install sklearn\n",
        "import sklearn\n",
        "from sklearn.model_selection import train_test_split"
      ],
      "execution_count": 17,
      "outputs": [
        {
          "output_type": "stream",
          "text": [
            "Requirement already satisfied: sklearn in /usr/local/lib/python3.6/dist-packages (0.0)\n",
            "Requirement already satisfied: scikit-learn in /usr/local/lib/python3.6/dist-packages (from sklearn) (0.22.1)\n",
            "Requirement already satisfied: scipy>=0.17.0 in /usr/local/lib/python3.6/dist-packages (from scikit-learn->sklearn) (1.4.1)\n",
            "Requirement already satisfied: joblib>=0.11 in /usr/local/lib/python3.6/dist-packages (from scikit-learn->sklearn) (0.14.1)\n",
            "Requirement already satisfied: numpy>=1.11.0 in /usr/local/lib/python3.6/dist-packages (from scikit-learn->sklearn) (1.17.5)\n"
          ],
          "name": "stdout"
        }
      ]
    },
    {
      "cell_type": "markdown",
      "metadata": {
        "id": "_Ka0JaBUBB97",
        "colab_type": "text"
      },
      "source": [
        "# Converting image's to vectors"
      ]
    },
    {
      "cell_type": "code",
      "metadata": {
        "id": "V5EaFmH9BH4g",
        "colab_type": "code",
        "colab": {}
      },
      "source": [
        "TRAIN_DIR = './train/'\n",
        "TEST_DIR = './test1/'"
      ],
      "execution_count": 0,
      "outputs": []
    },
    {
      "cell_type": "code",
      "metadata": {
        "id": "ZC12uKZHBR4E",
        "colab_type": "code",
        "colab": {}
      },
      "source": [
        "ROWS = 64\n",
        "COLS = 64\n",
        "CHANNELS = 3"
      ],
      "execution_count": 0,
      "outputs": []
    },
    {
      "cell_type": "code",
      "metadata": {
        "id": "91JhcjkvBTas",
        "colab_type": "code",
        "colab": {}
      },
      "source": [
        "train_images = [TRAIN_DIR+i for i in os.listdir(TRAIN_DIR)]\n",
        "test_images = [TEST_DIR+i for i in os.listdir(TEST_DIR)]"
      ],
      "execution_count": 0,
      "outputs": []
    },
    {
      "cell_type": "code",
      "metadata": {
        "id": "eDVPzvZKBWow",
        "colab_type": "code",
        "colab": {}
      },
      "source": [
        "def read_image(file_path):\n",
        "  #print(file_path)\n",
        "  img = cv2.imread(file_path, cv2.IMREAD_COLOR)\n",
        "  #print(img)\n",
        "  return cv2.resize(img, (ROWS, COLS), interpolation=cv2.INTER_CUBIC)"
      ],
      "execution_count": 0,
      "outputs": []
    },
    {
      "cell_type": "code",
      "metadata": {
        "id": "oAwhoHywBakI",
        "colab_type": "code",
        "colab": {}
      },
      "source": [
        "def prep_data(images):\n",
        "  m = len(images)\n",
        "  n_x = ROWS*COLS*CHANNELS\n",
        "  \n",
        "  X = np.ndarray((m,ROWS,COLS,CHANNELS), dtype=np.uint8)\n",
        "  y = np.zeros((m,1))\n",
        "  print(\"X.shape is {}\".format(X.shape))\n",
        "  \n",
        "  for i,image_file in enumerate(images) :\n",
        "    image = read_image(image_file)\n",
        "    X[i,:] = np.squeeze(image.reshape((ROWS, COLS, CHANNELS)))\n",
        "    if 'dog' in image_file.lower() :\n",
        "      y[i,0] = 1\n",
        "    elif 'cat' in image_file.lower() :\n",
        "      y[i,0] = 0\n",
        "    else : # for test data\n",
        "      y[i,0] = image_file.split('/')[-1].split('.')[0]\n",
        "      \n",
        "    if i%5000 == 0 :\n",
        "      print(\"Proceed {} of {}\".format(i, m))\n",
        "    \n",
        "  return X,y"
      ],
      "execution_count": 0,
      "outputs": []
    },
    {
      "cell_type": "code",
      "metadata": {
        "id": "Gg1QVYhXCBfr",
        "colab_type": "code",
        "outputId": "08ab8b13-c0ab-4312-bf07-fba7d08d9694",
        "colab": {
          "base_uri": "https://localhost:8080/",
          "height": 191
        }
      },
      "source": [
        "X_train, y_train = prep_data(train_images)\n",
        "X_test, y_test = prep_data(test_images)"
      ],
      "execution_count": 23,
      "outputs": [
        {
          "output_type": "stream",
          "text": [
            "X.shape is (25000, 64, 64, 3)\n",
            "Proceed 0 of 25000\n",
            "Proceed 5000 of 25000\n",
            "Proceed 10000 of 25000\n",
            "Proceed 15000 of 25000\n",
            "Proceed 20000 of 25000\n",
            "X.shape is (12500, 64, 64, 3)\n",
            "Proceed 0 of 12500\n",
            "Proceed 5000 of 12500\n",
            "Proceed 10000 of 12500\n"
          ],
          "name": "stdout"
        }
      ]
    },
    {
      "cell_type": "code",
      "metadata": {
        "id": "Fs8-hcfqtb7u",
        "colab_type": "code",
        "outputId": "4fcd449b-5668-417f-bb09-55c5afad65cf",
        "colab": {
          "base_uri": "https://localhost:8080/",
          "height": 52
        }
      },
      "source": [
        "print(\"Train shape: {}\".format(X_train.shape))\n",
        "print(\"Test shape: {}\".format(X_test.shape))"
      ],
      "execution_count": 24,
      "outputs": [
        {
          "output_type": "stream",
          "text": [
            "Train shape: (25000, 64, 64, 3)\n",
            "Test shape: (12500, 64, 64, 3)\n"
          ],
          "name": "stdout"
        }
      ]
    },
    {
      "cell_type": "code",
      "metadata": {
        "id": "SLcqmnLH_7Wb",
        "colab_type": "code",
        "colab": {}
      },
      "source": [
        "X, y = shuffle(X_train, y_train)"
      ],
      "execution_count": 0,
      "outputs": []
    },
    {
      "cell_type": "code",
      "metadata": {
        "id": "g6a8FJ0vCDzo",
        "colab_type": "code",
        "outputId": "61d8826c-8b20-4ec0-f971-82f4b8c1f6fb",
        "colab": {
          "base_uri": "https://localhost:8080/",
          "height": 34
        }
      },
      "source": [
        "X.shape"
      ],
      "execution_count": 26,
      "outputs": [
        {
          "output_type": "execute_result",
          "data": {
            "text/plain": [
              "(25000, 64, 64, 3)"
            ]
          },
          "metadata": {
            "tags": []
          },
          "execution_count": 26
        }
      ]
    },
    {
      "cell_type": "code",
      "metadata": {
        "id": "3_erLhk1CVeQ",
        "colab_type": "code",
        "outputId": "d21b7dcc-6db7-4113-f7be-c1a1ddeea757",
        "colab": {
          "base_uri": "https://localhost:8080/",
          "height": 34
        }
      },
      "source": [
        "y.shape"
      ],
      "execution_count": 27,
      "outputs": [
        {
          "output_type": "execute_result",
          "data": {
            "text/plain": [
              "(25000, 1)"
            ]
          },
          "metadata": {
            "tags": []
          },
          "execution_count": 27
        }
      ]
    },
    {
      "cell_type": "markdown",
      "metadata": {
        "id": "J77kbGOpO-S9",
        "colab_type": "text"
      },
      "source": [
        "# Splitting of dataset into train (60%), validation (20%) and test (20%)"
      ]
    },
    {
      "cell_type": "code",
      "metadata": {
        "id": "we5GXLWOPE-0",
        "colab_type": "code",
        "outputId": "c90c42e0-d6fa-473c-c600-a8099a44215b",
        "colab": {
          "base_uri": "https://localhost:8080/",
          "height": 86
        }
      },
      "source": [
        "X_train, X_val, y_train, y_val = train_test_split(X, y, test_size=0.2, random_state=1)\n",
        "\n",
        "print(\"Train shape: {}\".format(X_train.shape))\n",
        "print(\"Train label shape: {}\".format(y_train.shape))\n",
        "print(\"Validation shape: {}\".format(X_val.shape))\n",
        "print(\"Validation label shape: {}\".format(y_val.shape))"
      ],
      "execution_count": 28,
      "outputs": [
        {
          "output_type": "stream",
          "text": [
            "Train shape: (20000, 64, 64, 3)\n",
            "Train label shape: (20000, 1)\n",
            "Validation shape: (5000, 64, 64, 3)\n",
            "Validation label shape: (5000, 1)\n"
          ],
          "name": "stdout"
        }
      ]
    },
    {
      "cell_type": "markdown",
      "metadata": {
        "id": "AJIJ1ejRSKVu",
        "colab_type": "text"
      },
      "source": [
        "# Converting to one-hot vector representation"
      ]
    },
    {
      "cell_type": "code",
      "metadata": {
        "id": "dEVLLFCe3hHI",
        "colab_type": "code",
        "outputId": "8b43facc-b088-4c43-f97d-f22479fe27c4",
        "colab": {
          "base_uri": "https://localhost:8080/",
          "height": 69
        }
      },
      "source": [
        "y_train_one_hot = to_categorical(y_train)\n",
        "print(y_train_one_hot.shape)\n",
        "\n",
        "num_classes = y_train_one_hot.shape[1]\n",
        "print(num_classes)\n",
        "\n",
        "y_val_one_hot = to_categorical(y_val)\n",
        "print(y_val_one_hot.shape)"
      ],
      "execution_count": 29,
      "outputs": [
        {
          "output_type": "stream",
          "text": [
            "(20000, 2)\n",
            "2\n",
            "(5000, 2)\n"
          ],
          "name": "stdout"
        }
      ]
    },
    {
      "cell_type": "markdown",
      "metadata": {
        "id": "ctgBH4Q9AlQR",
        "colab_type": "text"
      },
      "source": [
        "# Visualizing the dataset"
      ]
    },
    {
      "cell_type": "code",
      "metadata": {
        "id": "4YXBjR-hApUh",
        "colab_type": "code",
        "colab": {}
      },
      "source": [
        "classes = {0: 'cats',\n",
        "          1: 'dogs'}"
      ],
      "execution_count": 0,
      "outputs": []
    },
    {
      "cell_type": "code",
      "metadata": {
        "id": "a75tCEIQBHk0",
        "colab_type": "code",
        "colab": {}
      },
      "source": [
        "def show_images(X, y, idx) :\n",
        "  image = X[idx]\n",
        "  #image = image.reshape((ROWS, COLS, CHANNELS))\n",
        "  plt.figure(figsize=(4,2))\n",
        "  plt.imshow(image)\n",
        "  plt.title(\"This is a {}\".format(classes[y[idx,0]]))\n",
        "  plt.show()"
      ],
      "execution_count": 0,
      "outputs": []
    },
    {
      "cell_type": "code",
      "metadata": {
        "id": "1WCN9cDsBKZl",
        "colab_type": "code",
        "outputId": "c5be39e2-9901-4466-df83-56caa17c2be1",
        "colab": {
          "base_uri": "https://localhost:8080/",
          "height": 173
        }
      },
      "source": [
        "show_images(X_train, y_train, 0)"
      ],
      "execution_count": 32,
      "outputs": [
        {
          "output_type": "display_data",
          "data": {
            "image/png": "[encoded data removed]",
            "text/plain": [
              "<Figure size 288x144 with 1 Axes>"
            ]
          },
          "metadata": {
            "tags": []
          }
        }
      ]
    },
    {
      "cell_type": "code",
      "metadata": {
        "id": "MsqYQZRIHUvj",
        "colab_type": "code",
        "colab": {}
      },
      "source": [
        "X_train_norm = X_train / 255\n",
        "X_val_norm = X_val / 255"
      ],
      "execution_count": 0,
      "outputs": []
    },
    {
      "cell_type": "code",
      "metadata": {
        "id": "EGh7IONbXgO3",
        "colab_type": "code",
        "outputId": "90a8233d-e45b-4a57-da2e-3bc6df00c042",
        "colab": {
          "base_uri": "https://localhost:8080/",
          "height": 173
        }
      },
      "source": [
        "show_images(X_train_norm, y_train, 5)"
      ],
      "execution_count": 34,
      "outputs": [
        {
          "output_type": "display_data",
          "data": {
            "image/png": "[encoded data removed]",
            "text/plain": [
              "<Figure size 288x144 with 1 Axes>"
            ]
          },
          "metadata": {
            "tags": []
          }
        }
      ]
    },
    {
      "cell_type": "markdown",
      "metadata": {
        "id": "1xl9JjclEfW_",
        "colab_type": "text"
      },
      "source": [
        "# Final Choosen Model Architecture and Training of Model"
      ]
    },
    {
      "cell_type": "markdown",
      "metadata": {
        "id": "ptwfsCQwX9sO",
        "colab_type": "text"
      },
      "source": [
        "For the details about how this architecture is choosen, scroll down to the last section on \"How to choose the right model architecture iteratively?\""
      ]
    },
    {
      "cell_type": "code",
      "metadata": {
        "id": "rvWtxf5eC_AN",
        "colab_type": "code",
        "colab": {
          "base_uri": "https://localhost:8080/",
          "height": 263
        },
        "outputId": "3b9cf47b-521c-4729-8c1c-7d64df2c2a82"
      },
      "source": [
        "model9 = Sequential()\n",
        "\n",
        "model9.add(Conv2D(32, (3,3), input_shape=(ROWS, COLS, CHANNELS), activation='relu'))\n",
        "model9.add(MaxPooling2D(pool_size = (2,2)))\n",
        "\n",
        "model9.add(Conv2D(64, (3,3), activation='relu'))\n",
        "model9.add(MaxPooling2D(pool_size = (2,2)))\n",
        "model9.add(Dropout(0.4))\n",
        "\n",
        "model9.add(Conv2D(128, (3,3), activation='relu'))\n",
        "model9.add(MaxPooling2D(pool_size = (2,2)))\n",
        "model9.add(Dropout(0.4))\n",
        "\n",
        "model9.add(Conv2D(256, (3,3), activation='relu'))\n",
        "model9.add(MaxPooling2D(pool_size = (2,2)))\n",
        "model9.add(Dropout(0.4))\n",
        "\n",
        "model9.add(Conv2D(512, (1,1), activation='relu'))\n",
        "#model6.add(MaxPooling2D(pool_size = (2,2)))\n",
        "\n",
        "model9.add(Flatten())\n",
        "model9.add(Dropout(0.4))\n",
        "\n",
        "model9.add(Dense(units=120, activation='relu'))\n",
        "model9.add(Dense(units=2, activation='sigmoid'))"
      ],
      "execution_count": 35,
      "outputs": [
        {
          "output_type": "stream",
          "text": [
            "WARNING:tensorflow:From /usr/local/lib/python3.6/dist-packages/keras/backend/tensorflow_backend.py:66: The name tf.get_default_graph is deprecated. Please use tf.compat.v1.get_default_graph instead.\n",
            "\n",
            "WARNING:tensorflow:From /usr/local/lib/python3.6/dist-packages/keras/backend/tensorflow_backend.py:541: The name tf.placeholder is deprecated. Please use tf.compat.v1.placeholder instead.\n",
            "\n",
            "WARNING:tensorflow:From /usr/local/lib/python3.6/dist-packages/keras/backend/tensorflow_backend.py:4432: The name tf.random_uniform is deprecated. Please use tf.random.uniform instead.\n",
            "\n",
            "WARNING:tensorflow:From /usr/local/lib/python3.6/dist-packages/keras/backend/tensorflow_backend.py:4267: The name tf.nn.max_pool is deprecated. Please use tf.nn.max_pool2d instead.\n",
            "\n",
            "WARNING:tensorflow:From /usr/local/lib/python3.6/dist-packages/keras/backend/tensorflow_backend.py:148: The name tf.placeholder_with_default is deprecated. Please use tf.compat.v1.placeholder_with_default instead.\n",
            "\n",
            "WARNING:tensorflow:From /usr/local/lib/python3.6/dist-packages/keras/backend/tensorflow_backend.py:3733: calling dropout (from tensorflow.python.ops.nn_ops) with keep_prob is deprecated and will be removed in a future version.\n",
            "Instructions for updating:\n",
            "Please use `rate` instead of `keep_prob`. Rate should be set to `rate = 1 - keep_prob`.\n"
          ],
          "name": "stdout"
        }
      ]
    },
    {
      "cell_type": "code",
      "metadata": {
        "id": "MlpCzuFq41Zy",
        "colab_type": "code",
        "outputId": "282168d7-a5b5-43a4-c30f-4abdf5973c91",
        "colab": {
          "base_uri": "https://localhost:8080/",
          "height": 801
        }
      },
      "source": [
        "model9.compile(optimizer='adam', loss='categorical_crossentropy', metrics=['accuracy'])\n",
        "model9.summary()"
      ],
      "execution_count": 36,
      "outputs": [
        {
          "output_type": "stream",
          "text": [
            "WARNING:tensorflow:From /usr/local/lib/python3.6/dist-packages/keras/optimizers.py:793: The name tf.train.Optimizer is deprecated. Please use tf.compat.v1.train.Optimizer instead.\n",
            "\n",
            "WARNING:tensorflow:From /usr/local/lib/python3.6/dist-packages/keras/backend/tensorflow_backend.py:3576: The name tf.log is deprecated. Please use tf.math.log instead.\n",
            "\n",
            "Model: \"sequential_1\"\n",
            "_________________________________________________________________\n",
            "Layer (type)                 Output Shape              Param #   \n",
            "=================================================================\n",
            "conv2d_1 (Conv2D)            (None, 62, 62, 32)        896       \n",
            "_________________________________________________________________\n",
            "max_pooling2d_1 (MaxPooling2 (None, 31, 31, 32)        0         \n",
            "_________________________________________________________________\n",
            "conv2d_2 (Conv2D)            (None, 29, 29, 64)        18496     \n",
            "_________________________________________________________________\n",
            "max_pooling2d_2 (MaxPooling2 (None, 14, 14, 64)        0         \n",
            "_________________________________________________________________\n",
            "dropout_1 (Dropout)          (None, 14, 14, 64)        0         \n",
            "_________________________________________________________________\n",
            "conv2d_3 (Conv2D)            (None, 12, 12, 128)       73856     \n",
            "_________________________________________________________________\n",
            "max_pooling2d_3 (MaxPooling2 (None, 6, 6, 128)         0         \n",
            "_________________________________________________________________\n",
            "dropout_2 (Dropout)          (None, 6, 6, 128)         0         \n",
            "_________________________________________________________________\n",
            "conv2d_4 (Conv2D)            (None, 4, 4, 256)         295168    \n",
            "_________________________________________________________________\n",
            "max_pooling2d_4 (MaxPooling2 (None, 2, 2, 256)         0         \n",
            "_________________________________________________________________\n",
            "dropout_3 (Dropout)          (None, 2, 2, 256)         0         \n",
            "_________________________________________________________________\n",
            "conv2d_5 (Conv2D)            (None, 2, 2, 512)         131584    \n",
            "_________________________________________________________________\n",
            "flatten_1 (Flatten)          (None, 2048)              0         \n",
            "_________________________________________________________________\n",
            "dropout_4 (Dropout)          (None, 2048)              0         \n",
            "_________________________________________________________________\n",
            "dense_1 (Dense)              (None, 120)               245880    \n",
            "_________________________________________________________________\n",
            "dense_2 (Dense)              (None, 2)                 242       \n",
            "=================================================================\n",
            "Total params: 766,122\n",
            "Trainable params: 766,122\n",
            "Non-trainable params: 0\n",
            "_________________________________________________________________\n"
          ],
          "name": "stdout"
        }
      ]
    },
    {
      "cell_type": "code",
      "metadata": {
        "id": "d7lwMbG8ALBc",
        "colab_type": "code",
        "outputId": "3e07934d-c7f4-47d8-9f26-3c256eaf6185",
        "colab": {
          "base_uri": "https://localhost:8080/",
          "height": 1000
        }
      },
      "source": [
        "model9.fit(X_train_norm, y_train_one_hot, validation_data=(X_val_norm, y_val_one_hot), epochs=50, batch_size = 64)"
      ],
      "execution_count": 37,
      "outputs": [
        {
          "output_type": "stream",
          "text": [
            "WARNING:tensorflow:From /usr/local/lib/python3.6/dist-packages/tensorflow_core/python/ops/math_grad.py:1424: where (from tensorflow.python.ops.array_ops) is deprecated and will be removed in a future version.\n",
            "Instructions for updating:\n",
            "Use tf.where in 2.0, which has the same broadcast rule as np.where\n",
            "WARNING:tensorflow:From /usr/local/lib/python3.6/dist-packages/keras/backend/tensorflow_backend.py:1033: The name tf.assign_add is deprecated. Please use tf.compat.v1.assign_add instead.\n",
            "\n",
            "WARNING:tensorflow:From /usr/local/lib/python3.6/dist-packages/keras/backend/tensorflow_backend.py:1020: The name tf.assign is deprecated. Please use tf.compat.v1.assign instead.\n",
            "\n",
            "WARNING:tensorflow:From /usr/local/lib/python3.6/dist-packages/keras/backend/tensorflow_backend.py:3005: The name tf.Session is deprecated. Please use tf.compat.v1.Session instead.\n",
            "\n",
            "Train on 20000 samples, validate on 5000 samples\n",
            "Epoch 1/50\n",
            "WARNING:tensorflow:From /usr/local/lib/python3.6/dist-packages/keras/backend/tensorflow_backend.py:190: The name tf.get_default_session is deprecated. Please use tf.compat.v1.get_default_session instead.\n",
            "\n",
            "WARNING:tensorflow:From /usr/local/lib/python3.6/dist-packages/keras/backend/tensorflow_backend.py:197: The name tf.ConfigProto is deprecated. Please use tf.compat.v1.ConfigProto instead.\n",
            "\n",
            "WARNING:tensorflow:From /usr/local/lib/python3.6/dist-packages/keras/backend/tensorflow_backend.py:207: The name tf.global_variables is deprecated. Please use tf.compat.v1.global_variables instead.\n",
            "\n",
            "WARNING:tensorflow:From /usr/local/lib/python3.6/dist-packages/keras/backend/tensorflow_backend.py:216: The name tf.is_variable_initialized is deprecated. Please use tf.compat.v1.is_variable_initialized instead.\n",
            "\n",
            "WARNING:tensorflow:From /usr/local/lib/python3.6/dist-packages/keras/backend/tensorflow_backend.py:223: The name tf.variables_initializer is deprecated. Please use tf.compat.v1.variables_initializer instead.\n",
            "\n",
            "20000/20000 [==============================] - 24s 1ms/step - loss: 0.6600 - acc: 0.5939 - val_loss: 0.6179 - val_acc: 0.6558\n",
            "Epoch 2/50\n",
            "20000/20000 [==============================] - 10s 524us/step - loss: 0.5803 - acc: 0.6951 - val_loss: 0.5084 - val_acc: 0.7548\n",
            "Epoch 3/50\n",
            "20000/20000 [==============================] - 10s 514us/step - loss: 0.5084 - acc: 0.7516 - val_loss: 0.5126 - val_acc: 0.7458\n",
            "Epoch 4/50\n",
            "20000/20000 [==============================] - 10s 518us/step - loss: 0.4583 - acc: 0.7837 - val_loss: 0.5468 - val_acc: 0.7270\n",
            "Epoch 5/50\n",
            "20000/20000 [==============================] - 10s 513us/step - loss: 0.4247 - acc: 0.8063 - val_loss: 0.3897 - val_acc: 0.8280\n",
            "Epoch 6/50\n",
            "20000/20000 [==============================] - 10s 515us/step - loss: 0.3899 - acc: 0.8261 - val_loss: 0.3878 - val_acc: 0.8346\n",
            "Epoch 7/50\n",
            "20000/20000 [==============================] - 10s 516us/step - loss: 0.3690 - acc: 0.8387 - val_loss: 0.3804 - val_acc: 0.8324\n",
            "Epoch 8/50\n",
            "20000/20000 [==============================] - 10s 513us/step - loss: 0.3521 - acc: 0.8445 - val_loss: 0.3559 - val_acc: 0.8422\n",
            "Epoch 9/50\n",
            "20000/20000 [==============================] - 10s 511us/step - loss: 0.3375 - acc: 0.8520 - val_loss: 0.3324 - val_acc: 0.8532\n",
            "Epoch 10/50\n",
            "20000/20000 [==============================] - 10s 515us/step - loss: 0.3280 - acc: 0.8569 - val_loss: 0.3291 - val_acc: 0.8558\n",
            "Epoch 11/50\n",
            "20000/20000 [==============================] - 10s 514us/step - loss: 0.3119 - acc: 0.8635 - val_loss: 0.3447 - val_acc: 0.8488\n",
            "Epoch 12/50\n",
            "20000/20000 [==============================] - 10s 510us/step - loss: 0.2998 - acc: 0.8694 - val_loss: 0.3226 - val_acc: 0.8538\n",
            "Epoch 13/50\n",
            "20000/20000 [==============================] - 10s 514us/step - loss: 0.2938 - acc: 0.8764 - val_loss: 0.3722 - val_acc: 0.8408\n",
            "Epoch 14/50\n",
            "20000/20000 [==============================] - 10s 513us/step - loss: 0.2846 - acc: 0.8783 - val_loss: 0.3290 - val_acc: 0.8534\n",
            "Epoch 15/50\n",
            "20000/20000 [==============================] - 10s 512us/step - loss: 0.2826 - acc: 0.8774 - val_loss: 0.3774 - val_acc: 0.8202\n",
            "Epoch 16/50\n",
            "20000/20000 [==============================] - 10s 515us/step - loss: 0.2715 - acc: 0.8826 - val_loss: 0.2957 - val_acc: 0.8718\n",
            "Epoch 17/50\n",
            "20000/20000 [==============================] - 10s 512us/step - loss: 0.2705 - acc: 0.8863 - val_loss: 0.3079 - val_acc: 0.8654\n",
            "Epoch 18/50\n",
            "20000/20000 [==============================] - 10s 515us/step - loss: 0.2672 - acc: 0.8848 - val_loss: 0.3136 - val_acc: 0.8674\n",
            "Epoch 19/50\n",
            "20000/20000 [==============================] - 10s 515us/step - loss: 0.2564 - acc: 0.8909 - val_loss: 0.2822 - val_acc: 0.8820\n",
            "Epoch 20/50\n",
            "20000/20000 [==============================] - 10s 515us/step - loss: 0.2466 - acc: 0.8950 - val_loss: 0.2766 - val_acc: 0.8804\n",
            "Epoch 21/50\n",
            "20000/20000 [==============================] - 10s 514us/step - loss: 0.2403 - acc: 0.8976 - val_loss: 0.3049 - val_acc: 0.8736\n",
            "Epoch 22/50\n",
            "20000/20000 [==============================] - 10s 513us/step - loss: 0.2381 - acc: 0.9013 - val_loss: 0.2800 - val_acc: 0.8824\n",
            "Epoch 23/50\n",
            "20000/20000 [==============================] - 10s 509us/step - loss: 0.2333 - acc: 0.9017 - val_loss: 0.2729 - val_acc: 0.8858\n",
            "Epoch 24/50\n",
            "20000/20000 [==============================] - 10s 513us/step - loss: 0.2358 - acc: 0.9019 - val_loss: 0.3102 - val_acc: 0.8668\n",
            "Epoch 25/50\n",
            "20000/20000 [==============================] - 10s 516us/step - loss: 0.2193 - acc: 0.9086 - val_loss: 0.2745 - val_acc: 0.8810\n",
            "Epoch 26/50\n",
            "20000/20000 [==============================] - 10s 517us/step - loss: 0.2190 - acc: 0.9097 - val_loss: 0.2875 - val_acc: 0.8712\n",
            "Epoch 27/50\n",
            "20000/20000 [==============================] - 10s 513us/step - loss: 0.2204 - acc: 0.9098 - val_loss: 0.2698 - val_acc: 0.8816\n",
            "Epoch 28/50\n",
            "20000/20000 [==============================] - 10s 515us/step - loss: 0.2126 - acc: 0.9113 - val_loss: 0.2682 - val_acc: 0.8816\n",
            "Epoch 29/50\n",
            "20000/20000 [==============================] - 10s 511us/step - loss: 0.2121 - acc: 0.9130 - val_loss: 0.2775 - val_acc: 0.8842\n",
            "Epoch 30/50\n",
            "20000/20000 [==============================] - 10s 514us/step - loss: 0.2151 - acc: 0.9105 - val_loss: 0.2629 - val_acc: 0.8848\n",
            "Epoch 31/50\n",
            "20000/20000 [==============================] - 10s 517us/step - loss: 0.1998 - acc: 0.9156 - val_loss: 0.2745 - val_acc: 0.8858\n",
            "Epoch 32/50\n",
            "20000/20000 [==============================] - 10s 518us/step - loss: 0.2033 - acc: 0.9177 - val_loss: 0.2579 - val_acc: 0.8914\n",
            "Epoch 33/50\n",
            "20000/20000 [==============================] - 10s 516us/step - loss: 0.1963 - acc: 0.9157 - val_loss: 0.2675 - val_acc: 0.8868\n",
            "Epoch 34/50\n",
            "20000/20000 [==============================] - 10s 516us/step - loss: 0.1913 - acc: 0.9204 - val_loss: 0.2675 - val_acc: 0.8840\n",
            "Epoch 35/50\n",
            "20000/20000 [==============================] - 10s 516us/step - loss: 0.1918 - acc: 0.9224 - val_loss: 0.2574 - val_acc: 0.8916\n",
            "Epoch 36/50\n",
            "20000/20000 [==============================] - 10s 513us/step - loss: 0.1968 - acc: 0.9198 - val_loss: 0.2708 - val_acc: 0.8938\n",
            "Epoch 37/50\n",
            "20000/20000 [==============================] - 10s 513us/step - loss: 0.1907 - acc: 0.9214 - val_loss: 0.2621 - val_acc: 0.8862\n",
            "Epoch 38/50\n",
            "20000/20000 [==============================] - 10s 511us/step - loss: 0.1801 - acc: 0.9234 - val_loss: 0.2497 - val_acc: 0.8972\n",
            "Epoch 39/50\n",
            "20000/20000 [==============================] - 10s 516us/step - loss: 0.1845 - acc: 0.9229 - val_loss: 0.2798 - val_acc: 0.8878\n",
            "Epoch 40/50\n",
            "20000/20000 [==============================] - 10s 517us/step - loss: 0.1772 - acc: 0.9281 - val_loss: 0.2523 - val_acc: 0.8932\n",
            "Epoch 41/50\n",
            "20000/20000 [==============================] - 10s 515us/step - loss: 0.1786 - acc: 0.9270 - val_loss: 0.2714 - val_acc: 0.8858\n",
            "Epoch 42/50\n",
            "20000/20000 [==============================] - 10s 513us/step - loss: 0.1763 - acc: 0.9297 - val_loss: 0.2883 - val_acc: 0.8822\n",
            "Epoch 43/50\n",
            "20000/20000 [==============================] - 10s 514us/step - loss: 0.1778 - acc: 0.9254 - val_loss: 0.2668 - val_acc: 0.8906\n",
            "Epoch 44/50\n",
            "20000/20000 [==============================] - 10s 514us/step - loss: 0.1735 - acc: 0.9294 - val_loss: 0.2702 - val_acc: 0.8922\n",
            "Epoch 45/50\n",
            "20000/20000 [==============================] - 10s 516us/step - loss: 0.1716 - acc: 0.9281 - val_loss: 0.2706 - val_acc: 0.8926\n",
            "Epoch 46/50\n",
            "20000/20000 [==============================] - 10s 513us/step - loss: 0.1739 - acc: 0.9294 - val_loss: 0.2894 - val_acc: 0.8752\n",
            "Epoch 47/50\n",
            "20000/20000 [==============================] - 10s 511us/step - loss: 0.1695 - acc: 0.9313 - val_loss: 0.2587 - val_acc: 0.9012\n",
            "Epoch 48/50\n",
            "20000/20000 [==============================] - 10s 514us/step - loss: 0.1685 - acc: 0.9317 - val_loss: 0.2547 - val_acc: 0.8916\n",
            "Epoch 49/50\n",
            "20000/20000 [==============================] - 10s 513us/step - loss: 0.1664 - acc: 0.9316 - val_loss: 0.2566 - val_acc: 0.8938\n",
            "Epoch 50/50\n",
            "20000/20000 [==============================] - 10s 513us/step - loss: 0.1590 - acc: 0.9379 - val_loss: 0.2603 - val_acc: 0.8888\n"
          ],
          "name": "stdout"
        },
        {
          "output_type": "execute_result",
          "data": {
            "text/plain": [
              "<keras.callbacks.History at 0x7f501808e5f8>"
            ]
          },
          "metadata": {
            "tags": []
          },
          "execution_count": 37
        }
      ]
    },
    {
      "cell_type": "markdown",
      "metadata": {
        "id": "HPPAi3jOMK5o",
        "colab_type": "text"
      },
      "source": [
        "# Making Predictions using the model on Training and Test data"
      ]
    },
    {
      "cell_type": "code",
      "metadata": {
        "id": "zR5WqfXXIVvy",
        "colab_type": "code",
        "outputId": "b41d0b21-0846-4648-90c8-a81ddc5d3395",
        "colab": {
          "base_uri": "https://localhost:8080/",
          "height": 190
        }
      },
      "source": [
        "image = X_train[0]\n",
        "test_pred = model9.predict_classes(image.reshape(1, 64, 64, 3))\n",
        "\n",
        "show_images(X_train, y_train,0)\n",
        "\n",
        "print(\"Our Model Prediction: {}\".format(test_pred))"
      ],
      "execution_count": 38,
      "outputs": [
        {
          "output_type": "display_data",
          "data": {
            "image/png": "[encoded data removed]",
            "text/plain": [
              "<Figure size 288x144 with 1 Axes>"
            ]
          },
          "metadata": {
            "tags": []
          }
        },
        {
          "output_type": "stream",
          "text": [
            "Our Model Prediction: [0]\n"
          ],
          "name": "stdout"
        }
      ]
    },
    {
      "cell_type": "code",
      "metadata": {
        "id": "72rpic8IJf4N",
        "colab_type": "code",
        "outputId": "7283bfab-ed16-452c-ea76-47e871660d95",
        "colab": {
          "base_uri": "https://localhost:8080/",
          "height": 190
        }
      },
      "source": [
        "image = X_train[100]\n",
        "test_pred = model9.predict_classes(image.reshape(1, 64, 64, 3))\n",
        "\n",
        "show_images(X_train, y_train,100)\n",
        "\n",
        "print(\"Our Model Prediction: {}\".format(test_pred))"
      ],
      "execution_count": 39,
      "outputs": [
        {
          "output_type": "display_data",
          "data": {
            "image/png": "[encoded data removed]",
            "text/plain": [
              "<Figure size 288x144 with 1 Axes>"
            ]
          },
          "metadata": {
            "tags": []
          }
        },
        {
          "output_type": "stream",
          "text": [
            "Our Model Prediction: [1]\n"
          ],
          "name": "stdout"
        }
      ]
    },
    {
      "cell_type": "code",
      "metadata": {
        "id": "MoGTDT9UO6RZ",
        "colab_type": "code",
        "colab": {}
      },
      "source": [
        "def show_image_prediction(X, idx, model) :\n",
        "  image = X[idx].reshape(1,64,64,3)\n",
        "  image_class = classes[model.predict_classes(image).item()]\n",
        "  image = image.reshape((ROWS, COLS, CHANNELS))\n",
        "  plt.figure(figsize = (4,2))\n",
        "  plt.imshow(image)\n",
        "  plt.title(\"Test {} : I think this is {}\".format(idx, image_class))\n",
        "  plt.show()"
      ],
      "execution_count": 0,
      "outputs": []
    },
    {
      "cell_type": "code",
      "metadata": {
        "id": "NJPXNzi1PVtA",
        "colab_type": "code",
        "outputId": "41fa6729-a9c3-4b0a-b780-c4232e751490",
        "colab": {
          "base_uri": "https://localhost:8080/",
          "height": 86
        }
      },
      "source": [
        "X_test, test_idx = prep_data(test_images)"
      ],
      "execution_count": 41,
      "outputs": [
        {
          "output_type": "stream",
          "text": [
            "X.shape is (12500, 64, 64, 3)\n",
            "Proceed 0 of 12500\n",
            "Proceed 5000 of 12500\n",
            "Proceed 10000 of 12500\n"
          ],
          "name": "stdout"
        }
      ]
    },
    {
      "cell_type": "code",
      "metadata": {
        "id": "ieWX6pXAM75k",
        "colab_type": "code",
        "outputId": "205252a9-939c-4a9e-9fb1-e3201b29fb26",
        "colab": {
          "base_uri": "https://localhost:8080/",
          "height": 1000
        }
      },
      "source": [
        "X_test_lr, test_idx = X_test, test_idx\n",
        "\n",
        "for i in np.random.randint(0, len(X_test_lr), 10) :\n",
        "  show_image_prediction(X_test_lr, i, model9)"
      ],
      "execution_count": 42,
      "outputs": [
        {
          "output_type": "display_data",
          "data": {
            "image/png": "[encoded data removed]",
            "text/plain": [
              "<Figure size 288x144 with 1 Axes>"
            ]
          },
          "metadata": {
            "tags": []
          }
        },
        {
          "output_type": "display_data",
          "data": {
            "image/png": "[encoded data removed]",
            "text/plain": [
              "<Figure size 288x144 with 1 Axes>"
            ]
          },
          "metadata": {
            "tags": []
          }
        },
        {
          "output_type": "display_data",
          "data": {
            "image/png": "[encoded data removed]",
            "text/plain": [
              "<Figure size 288x144 with 1 Axes>"
            ]
          },
          "metadata": {
            "tags": []
          }
        },
        {
          "output_type": "display_data",
          "data": {
            "image/png": "[encoded data removed]",
            "text/plain": [
              "<Figure size 288x144 with 1 Axes>"
            ]
          },
          "metadata": {
            "tags": []
          }
        },
        {
          "output_type": "display_data",
          "data": {
            "image/png": "[encoded data removed]",
            "text/plain": [
              "<Figure size 288x144 with 1 Axes>"
            ]
          },
          "metadata": {
            "tags": []
          }
        },
        {
          "output_type": "display_data",
          "data": {
            "image/png": "[encoded data removed]",
            "text/plain": [
              "<Figure size 288x144 with 1 Axes>"
            ]
          },
          "metadata": {
            "tags": []
          }
        },
        {
          "output_type": "display_data",
          "data": {
            "image/png": "[encoded data removed]",
            "text/plain": [
              "<Figure size 288x144 with 1 Axes>"
            ]
          },
          "metadata": {
            "tags": []
          }
        },
        {
          "output_type": "display_data",
          "data": {
            "image/png": "[encoded data removed]",
            "text/plain": [
              "<Figure size 288x144 with 1 Axes>"
            ]
          },
          "metadata": {
            "tags": []
          }
        },
        {
          "output_type": "display_data",
          "data": {
            "image/png": "[encoded data removed]",
            "text/plain": [
              "<Figure size 288x144 with 1 Axes>"
            ]
          },
          "metadata": {
            "tags": []
          }
        },
        {
          "output_type": "display_data",
          "data": {
            "image/png": "[encoded data removed]",
            "text/plain": [
              "<Figure size 288x144 with 1 Axes>"
            ]
          },
          "metadata": {
            "tags": []
          }
        }
      ]
    },
    {
      "cell_type": "markdown",
      "metadata": {
        "id": "ZZRJrQSkayC8",
        "colab_type": "text"
      },
      "source": [
        "# How to choose the right model architecture iteratively?"
      ]
    },
    {
      "cell_type": "markdown",
      "metadata": {
        "id": "craDUPGPa3id",
        "colab_type": "text"
      },
      "source": [
        "Choosing the right architecture and the correct set of hyperparameter is an art of Deep Learning that's very important to master for any data scientist.\n",
        "\n",
        "Here, I give you a quick guide on how you can choose the right architecture for your particular task and the correct set of hyperparameters iteratively."
      ]
    },
    {
      "cell_type": "markdown",
      "metadata": {
        "id": "TO7qcasocHk4",
        "colab_type": "text"
      },
      "source": [
        "**Model 1**"
      ]
    },
    {
      "cell_type": "markdown",
      "metadata": {
        "id": "8GSkh8xsbRYp",
        "colab_type": "text"
      },
      "source": [
        "1. Build a simple and rought model quickly. It will not perform good but it will give you a good insight as to where you can improve in your architecture and set of hyperparameters."
      ]
    },
    {
      "cell_type": "code",
      "metadata": {
        "id": "0bOJQKBKbamy",
        "colab_type": "code",
        "colab": {
          "base_uri": "https://localhost:8080/",
          "height": 72
        },
        "outputId": "71a3e2f3-1c59-4f5f-efa8-6944b7a54099"
      },
      "source": [
        "model1 = Sequential()\n",
        "\n",
        "model1.add(Conv2D(32, (3,3), input_shape=(ROWS, COLS, CHANNELS), activation='relu'))\n",
        "model1.add(MaxPooling2D(pool_size = (2,2)))\n",
        "\n",
        "model1.add(Conv2D(32, (3,3), activation='relu'))\n",
        "model1.add(MaxPooling2D(pool_size = (2,2)))\n",
        "model1.add(Dropout(0.6))\n",
        "\n",
        "model1.add(Conv2D(64, (3,3), activation='relu'))\n",
        "model1.add(MaxPooling2D(pool_size = (2,2)))\n",
        "\n",
        "model1.add(Conv2D(64, (3,3), activation='relu'))\n",
        "model1.add(MaxPooling2D(pool_size = (2,2)))\n",
        "\n",
        "model1.add(Flatten())\n",
        "model1.add(Dropout(0.6))\n",
        "\n",
        "model1.add(Dense(units=120, activation='relu'))\n",
        "model1.add(Dense(units=2, activation='sigmoid'))"
      ],
      "execution_count": 43,
      "outputs": [
        {
          "output_type": "stream",
          "text": [
            "WARNING:tensorflow:Large dropout rate: 0.6 (>0.5). In TensorFlow 2.x, dropout() uses dropout rate instead of keep_prob. Please ensure that this is intended.\n",
            "WARNING:tensorflow:Large dropout rate: 0.6 (>0.5). In TensorFlow 2.x, dropout() uses dropout rate instead of keep_prob. Please ensure that this is intended.\n"
          ],
          "name": "stdout"
        }
      ]
    },
    {
      "cell_type": "code",
      "metadata": {
        "id": "yXN3vWnBDhwU",
        "colab_type": "code",
        "colab": {}
      },
      "source": [
        "model1.compile(optimizer='adam', loss='categorical_crossentropy', metrics=['accuracy'])"
      ],
      "execution_count": 0,
      "outputs": []
    },
    {
      "cell_type": "code",
      "metadata": {
        "id": "LzRU0N8MEK_k",
        "colab_type": "code",
        "outputId": "ddab5245-f0e2-445c-98ef-bf5a07bde989",
        "colab": {
          "base_uri": "https://localhost:8080/",
          "height": 607
        }
      },
      "source": [
        "model1.summary()"
      ],
      "execution_count": 69,
      "outputs": [
        {
          "output_type": "stream",
          "text": [
            "Model: \"sequential_2\"\n",
            "_________________________________________________________________\n",
            "Layer (type)                 Output Shape              Param #   \n",
            "=================================================================\n",
            "conv2d_6 (Conv2D)            (None, 62, 62, 32)        896       \n",
            "_________________________________________________________________\n",
            "max_pooling2d_5 (MaxPooling2 (None, 31, 31, 32)        0         \n",
            "_________________________________________________________________\n",
            "conv2d_7 (Conv2D)            (None, 29, 29, 32)        9248      \n",
            "_________________________________________________________________\n",
            "max_pooling2d_6 (MaxPooling2 (None, 14, 14, 32)        0         \n",
            "_________________________________________________________________\n",
            "dropout_5 (Dropout)          (None, 14, 14, 32)        0         \n",
            "_________________________________________________________________\n",
            "conv2d_8 (Conv2D)            (None, 12, 12, 64)        18496     \n",
            "_________________________________________________________________\n",
            "max_pooling2d_7 (MaxPooling2 (None, 6, 6, 64)          0         \n",
            "_________________________________________________________________\n",
            "conv2d_9 (Conv2D)            (None, 4, 4, 64)          36928     \n",
            "_________________________________________________________________\n",
            "max_pooling2d_8 (MaxPooling2 (None, 2, 2, 64)          0         \n",
            "_________________________________________________________________\n",
            "flatten_2 (Flatten)          (None, 256)               0         \n",
            "_________________________________________________________________\n",
            "dropout_6 (Dropout)          (None, 256)               0         \n",
            "_________________________________________________________________\n",
            "dense_3 (Dense)              (None, 120)               30840     \n",
            "_________________________________________________________________\n",
            "dense_4 (Dense)              (None, 2)                 242       \n",
            "=================================================================\n",
            "Total params: 96,650\n",
            "Trainable params: 96,650\n",
            "Non-trainable params: 0\n",
            "_________________________________________________________________\n"
          ],
          "name": "stdout"
        }
      ]
    },
    {
      "cell_type": "code",
      "metadata": {
        "id": "xe7RHtCSbXKC",
        "colab_type": "code",
        "outputId": "1390b295-a21c-44a7-a19b-baa93b3deef5",
        "colab": {
          "base_uri": "https://localhost:8080/",
          "height": 729
        }
      },
      "source": [
        "history1 = model1.fit(X_train_norm, y_train_one_hot, validation_data=(X_val_norm, y_val_one_hot), epochs=20, batch_size = 64)"
      ],
      "execution_count": 79,
      "outputs": [
        {
          "output_type": "stream",
          "text": [
            "Train on 20000 samples, validate on 5000 samples\n",
            "Epoch 1/20\n",
            "20000/20000 [==============================] - 7s 339us/step - loss: 0.6931 - acc: 0.4975 - val_loss: 0.6931 - val_acc: 0.5028\n",
            "Epoch 2/20\n",
            "20000/20000 [==============================] - 7s 338us/step - loss: 0.6931 - acc: 0.4975 - val_loss: 0.6931 - val_acc: 0.5028\n",
            "Epoch 3/20\n",
            "20000/20000 [==============================] - 7s 330us/step - loss: 0.6931 - acc: 0.4964 - val_loss: 0.6931 - val_acc: 0.5024\n",
            "Epoch 4/20\n",
            "20000/20000 [==============================] - 7s 331us/step - loss: 0.6931 - acc: 0.4967 - val_loss: 0.6931 - val_acc: 0.5024\n",
            "Epoch 5/20\n",
            "20000/20000 [==============================] - 7s 335us/step - loss: 0.6931 - acc: 0.4973 - val_loss: 0.6931 - val_acc: 0.5006\n",
            "Epoch 6/20\n",
            "20000/20000 [==============================] - 7s 331us/step - loss: 0.6931 - acc: 0.4971 - val_loss: 0.6931 - val_acc: 0.5044\n",
            "Epoch 7/20\n",
            "20000/20000 [==============================] - 7s 336us/step - loss: 0.6931 - acc: 0.4975 - val_loss: 0.6931 - val_acc: 0.5026\n",
            "Epoch 8/20\n",
            "20000/20000 [==============================] - 7s 338us/step - loss: 0.6931 - acc: 0.4975 - val_loss: 0.6931 - val_acc: 0.5026\n",
            "Epoch 9/20\n",
            "20000/20000 [==============================] - 7s 335us/step - loss: 0.6931 - acc: 0.4975 - val_loss: 0.6931 - val_acc: 0.5044\n",
            "Epoch 10/20\n",
            "20000/20000 [==============================] - 7s 336us/step - loss: 0.6931 - acc: 0.4971 - val_loss: 0.6931 - val_acc: 0.5046\n",
            "Epoch 11/20\n",
            "20000/20000 [==============================] - 7s 337us/step - loss: 0.6931 - acc: 0.4980 - val_loss: 0.6931 - val_acc: 0.5042\n",
            "Epoch 12/20\n",
            "20000/20000 [==============================] - 7s 335us/step - loss: 0.6931 - acc: 0.4978 - val_loss: 0.6931 - val_acc: 0.5052\n",
            "Epoch 13/20\n",
            "20000/20000 [==============================] - 7s 334us/step - loss: 0.6931 - acc: 0.4980 - val_loss: 0.6931 - val_acc: 0.5042\n",
            "Epoch 14/20\n",
            "20000/20000 [==============================] - 7s 336us/step - loss: 0.6931 - acc: 0.4977 - val_loss: 0.6931 - val_acc: 0.5052\n",
            "Epoch 15/20\n",
            "20000/20000 [==============================] - 7s 333us/step - loss: 0.6931 - acc: 0.4977 - val_loss: 0.6931 - val_acc: 0.5064\n",
            "Epoch 16/20\n",
            "20000/20000 [==============================] - 7s 342us/step - loss: 0.6931 - acc: 0.4982 - val_loss: 0.6931 - val_acc: 0.5068\n",
            "Epoch 17/20\n",
            "20000/20000 [==============================] - 7s 341us/step - loss: 0.6931 - acc: 0.4982 - val_loss: 0.6931 - val_acc: 0.5066\n",
            "Epoch 18/20\n",
            "20000/20000 [==============================] - 7s 334us/step - loss: 0.6931 - acc: 0.4981 - val_loss: 0.6931 - val_acc: 0.5060\n",
            "Epoch 19/20\n",
            "20000/20000 [==============================] - 7s 333us/step - loss: 0.6931 - acc: 0.4983 - val_loss: 0.6931 - val_acc: 0.5054\n",
            "Epoch 20/20\n",
            "20000/20000 [==============================] - 7s 329us/step - loss: 0.6931 - acc: 0.4979 - val_loss: 0.6923 - val_acc: 0.5066\n"
          ],
          "name": "stdout"
        }
      ]
    },
    {
      "cell_type": "code",
      "metadata": {
        "id": "8X21bB6fTxrc",
        "colab_type": "code",
        "colab": {
          "base_uri": "https://localhost:8080/",
          "height": 873
        },
        "outputId": "17b2c89f-6653-4477-d280-12c42e197350"
      },
      "source": [
        "fig, (ax1, ax2) = plt.subplots(2, 1, figsize=(12, 12))\n",
        "ax1.plot(history.history['loss'], color='b', label=\"Training loss\")\n",
        "ax1.plot(history.history['val_loss'], color='r', label=\"validation loss\")\n",
        "ax1.set_xticks(np.arange(1, 20, 1))\n",
        "ax1.set_yticks(np.arange(0, 1, 0.1))\n",
        "\n",
        "ax2.plot(history.history['acc'], color='b', label=\"Training accuracy\")\n",
        "ax2.plot(history.history['val_acc'], color='r',label=\"Validation accuracy\")\n",
        "ax2.set_xticks(np.arange(1, 20, 1))\n",
        "\n",
        "legend = plt.legend(loc='best', shadow=True)\n",
        "plt.tight_layout()\n",
        "plt.show()"
      ],
      "execution_count": 83,
      "outputs": [
        {
          "output_type": "display_data",
          "data": {
            "image/png": "[encoded data removed]",
            "text/plain": [
              "<Figure size 864x864 with 2 Axes>"
            ]
          },
          "metadata": {
            "tags": []
          }
        }
      ]
    },
    {
      "cell_type": "code",
      "metadata": {
        "id": "E4D0Jd59Rd5g",
        "colab_type": "code",
        "colab": {}
      },
      "source": [
        "y_pred1 = model1.predict(X_test)"
      ],
      "execution_count": 0,
      "outputs": []
    },
    {
      "cell_type": "code",
      "metadata": {
        "id": "K4f2SVdIRpWj",
        "colab_type": "code",
        "colab": {
          "base_uri": "https://localhost:8080/",
          "height": 34
        },
        "outputId": "fcbbc9d9-2570-4ca8-c401-b678d273c306"
      },
      "source": [
        "X_train.shape"
      ],
      "execution_count": 73,
      "outputs": [
        {
          "output_type": "execute_result",
          "data": {
            "text/plain": [
              "(20000, 64, 64, 3)"
            ]
          },
          "metadata": {
            "tags": []
          },
          "execution_count": 73
        }
      ]
    },
    {
      "cell_type": "code",
      "metadata": {
        "id": "lrfq0lfuR5Sq",
        "colab_type": "code",
        "colab": {
          "base_uri": "https://localhost:8080/",
          "height": 34
        },
        "outputId": "2b1a52a2-00cc-4c58-dd2d-bbf806c463a3"
      },
      "source": [
        "X_test.shape"
      ],
      "execution_count": 74,
      "outputs": [
        {
          "output_type": "execute_result",
          "data": {
            "text/plain": [
              "(12500, 64, 64, 3)"
            ]
          },
          "metadata": {
            "tags": []
          },
          "execution_count": 74
        }
      ]
    },
    {
      "cell_type": "code",
      "metadata": {
        "id": "WWRUGBLSSGvu",
        "colab_type": "code",
        "colab": {
          "base_uri": "https://localhost:8080/",
          "height": 34
        },
        "outputId": "9128571e-09c6-40e3-8362-8161e50246c1"
      },
      "source": [
        "y_test.shape"
      ],
      "execution_count": 76,
      "outputs": [
        {
          "output_type": "execute_result",
          "data": {
            "text/plain": [
              "(12500, 1)"
            ]
          },
          "metadata": {
            "tags": []
          },
          "execution_count": 76
        }
      ]
    },
    {
      "cell_type": "markdown",
      "metadata": {
        "id": "I38mXLnLatZN",
        "colab_type": "text"
      },
      "source": [
        "As you can see our model is showing a training accruacy of 84.84 % on training data that can be increased. However, our model right now has only 96650 trainable parameters. We can make our model more deeper to make our training accuracy even better."
      ]
    },
    {
      "cell_type": "markdown",
      "metadata": {
        "id": "wT7DvH8r3r-a",
        "colab_type": "text"
      },
      "source": [
        "**Model 2**"
      ]
    },
    {
      "cell_type": "code",
      "metadata": {
        "id": "XujCI5w43q9T",
        "colab_type": "code",
        "colab": {}
      },
      "source": [
        "model2 = Sequential()\n",
        "\n",
        "model2.add(Conv2D(32, (3,3), input_shape=(ROWS, COLS, CHANNELS), activation='relu'))\n",
        "model2.add(MaxPooling2D(pool_size = (2,2)))\n",
        "\n",
        "model2.add(Conv2D(64, (3,3), activation='relu'))\n",
        "model2.add(MaxPooling2D(pool_size = (2,2)))\n",
        "#model2.add(Dropout(0.6))\n",
        "\n",
        "model2.add(Conv2D(128, (3,3), activation='relu'))\n",
        "model2.add(MaxPooling2D(pool_size = (2,2)))\n",
        "\n",
        "model2.add(Conv2D(256, (3,3), activation='relu'))\n",
        "model2.add(MaxPooling2D(pool_size = (2,2)))\n",
        "\n",
        "model2.add(Flatten())\n",
        "#model2.add(Dropout(0.6))\n",
        "\n",
        "model2.add(Dense(units=120, activation='relu'))\n",
        "model2.add(Dense(units=2, activation='sigmoid'))"
      ],
      "execution_count": 0,
      "outputs": []
    },
    {
      "cell_type": "code",
      "metadata": {
        "id": "fQ1BbKBE300s",
        "colab_type": "code",
        "outputId": "38a5d8df-f859-4e20-c4fa-fa7900c20885",
        "colab": {
          "base_uri": "https://localhost:8080/",
          "height": 538
        }
      },
      "source": [
        "model2.compile(optimizer='adam', loss='categorical_crossentropy', metrics=['accuracy'])\n",
        "model2.summary()"
      ],
      "execution_count": 48,
      "outputs": [
        {
          "output_type": "stream",
          "text": [
            "Model: \"sequential_3\"\n",
            "_________________________________________________________________\n",
            "Layer (type)                 Output Shape              Param #   \n",
            "=================================================================\n",
            "conv2d_10 (Conv2D)           (None, 62, 62, 32)        896       \n",
            "_________________________________________________________________\n",
            "max_pooling2d_9 (MaxPooling2 (None, 31, 31, 32)        0         \n",
            "_________________________________________________________________\n",
            "conv2d_11 (Conv2D)           (None, 29, 29, 64)        18496     \n",
            "_________________________________________________________________\n",
            "max_pooling2d_10 (MaxPooling (None, 14, 14, 64)        0         \n",
            "_________________________________________________________________\n",
            "conv2d_12 (Conv2D)           (None, 12, 12, 128)       73856     \n",
            "_________________________________________________________________\n",
            "max_pooling2d_11 (MaxPooling (None, 6, 6, 128)         0         \n",
            "_________________________________________________________________\n",
            "conv2d_13 (Conv2D)           (None, 4, 4, 256)         295168    \n",
            "_________________________________________________________________\n",
            "max_pooling2d_12 (MaxPooling (None, 2, 2, 256)         0         \n",
            "_________________________________________________________________\n",
            "flatten_3 (Flatten)          (None, 1024)              0         \n",
            "_________________________________________________________________\n",
            "dense_5 (Dense)              (None, 120)               123000    \n",
            "_________________________________________________________________\n",
            "dense_6 (Dense)              (None, 2)                 242       \n",
            "=================================================================\n",
            "Total params: 511,658\n",
            "Trainable params: 511,658\n",
            "Non-trainable params: 0\n",
            "_________________________________________________________________\n"
          ],
          "name": "stdout"
        }
      ]
    },
    {
      "cell_type": "code",
      "metadata": {
        "id": "CIbbg9d835OZ",
        "colab_type": "code",
        "outputId": "c73ca408-8ace-4cab-ea2c-f4416c44adb5",
        "colab": {
          "base_uri": "https://localhost:8080/",
          "height": 746
        }
      },
      "source": [
        "model2.fit(X_train_norm, y_train_one_hot, validation_data=(X_val_norm, y_val_one_hot), epochs=20, batch_size = 64)"
      ],
      "execution_count": 49,
      "outputs": [
        {
          "output_type": "stream",
          "text": [
            "Train on 20000 samples, validate on 5000 samples\n",
            "Epoch 1/20\n",
            "20000/20000 [==============================] - 10s 487us/step - loss: 0.6572 - acc: 0.6030 - val_loss: 0.6011 - val_acc: 0.6862\n",
            "Epoch 2/20\n",
            "20000/20000 [==============================] - 9s 453us/step - loss: 0.5547 - acc: 0.7155 - val_loss: 0.5083 - val_acc: 0.7536\n",
            "Epoch 3/20\n",
            "20000/20000 [==============================] - 9s 453us/step - loss: 0.4775 - acc: 0.7710 - val_loss: 0.4644 - val_acc: 0.7794\n",
            "Epoch 4/20\n",
            "20000/20000 [==============================] - 9s 454us/step - loss: 0.4074 - acc: 0.8132 - val_loss: 0.4286 - val_acc: 0.8112\n",
            "Epoch 5/20\n",
            "20000/20000 [==============================] - 9s 450us/step - loss: 0.3494 - acc: 0.8465 - val_loss: 0.3922 - val_acc: 0.8288\n",
            "Epoch 6/20\n",
            "20000/20000 [==============================] - 9s 455us/step - loss: 0.2878 - acc: 0.8771 - val_loss: 0.3648 - val_acc: 0.8342\n",
            "Epoch 7/20\n",
            "20000/20000 [==============================] - 9s 452us/step - loss: 0.2410 - acc: 0.8968 - val_loss: 0.3554 - val_acc: 0.8418\n",
            "Epoch 8/20\n",
            "20000/20000 [==============================] - 9s 458us/step - loss: 0.2057 - acc: 0.9140 - val_loss: 0.3993 - val_acc: 0.8356\n",
            "Epoch 9/20\n",
            "20000/20000 [==============================] - 9s 453us/step - loss: 0.1669 - acc: 0.9315 - val_loss: 0.4219 - val_acc: 0.8470\n",
            "Epoch 10/20\n",
            "20000/20000 [==============================] - 9s 454us/step - loss: 0.1285 - acc: 0.9493 - val_loss: 0.4841 - val_acc: 0.8392\n",
            "Epoch 11/20\n",
            "20000/20000 [==============================] - 9s 457us/step - loss: 0.0980 - acc: 0.9628 - val_loss: 0.5209 - val_acc: 0.8468\n",
            "Epoch 12/20\n",
            "20000/20000 [==============================] - 9s 455us/step - loss: 0.0767 - acc: 0.9707 - val_loss: 0.5688 - val_acc: 0.8404\n",
            "Epoch 13/20\n",
            "20000/20000 [==============================] - 9s 453us/step - loss: 0.0593 - acc: 0.9777 - val_loss: 0.6060 - val_acc: 0.8454\n",
            "Epoch 14/20\n",
            "20000/20000 [==============================] - 9s 452us/step - loss: 0.0482 - acc: 0.9825 - val_loss: 0.7321 - val_acc: 0.8352\n",
            "Epoch 15/20\n",
            "20000/20000 [==============================] - 9s 450us/step - loss: 0.0525 - acc: 0.9797 - val_loss: 0.6632 - val_acc: 0.8394\n",
            "Epoch 16/20\n",
            "20000/20000 [==============================] - 9s 455us/step - loss: 0.0379 - acc: 0.9857 - val_loss: 0.6867 - val_acc: 0.8412\n",
            "Epoch 17/20\n",
            "20000/20000 [==============================] - 9s 454us/step - loss: 0.0560 - acc: 0.9797 - val_loss: 0.6652 - val_acc: 0.8404\n",
            "Epoch 18/20\n",
            "20000/20000 [==============================] - 9s 451us/step - loss: 0.0244 - acc: 0.9913 - val_loss: 0.8032 - val_acc: 0.8410\n",
            "Epoch 19/20\n",
            "20000/20000 [==============================] - 9s 452us/step - loss: 0.0374 - acc: 0.9879 - val_loss: 0.7683 - val_acc: 0.8386\n",
            "Epoch 20/20\n",
            "20000/20000 [==============================] - 9s 455us/step - loss: 0.0316 - acc: 0.9887 - val_loss: 0.8255 - val_acc: 0.8358\n"
          ],
          "name": "stdout"
        },
        {
          "output_type": "execute_result",
          "data": {
            "text/plain": [
              "<keras.callbacks.History at 0x7f50100c6978>"
            ]
          },
          "metadata": {
            "tags": []
          },
          "execution_count": 49
        }
      ]
    },
    {
      "cell_type": "markdown",
      "metadata": {
        "id": "eLhpo8zkcQhj",
        "colab_type": "text"
      },
      "source": [
        "We can clearly see that making our model deeper do help with the training accuracy as now our Training Accuracy has increased to 98.88% but our validation accuracy is only 84.56%. This means our model is overfitting. We can add regularization techniques like dropout to improve our validation set performance and prevent overfitting of our model."
      ]
    },
    {
      "cell_type": "markdown",
      "metadata": {
        "id": "KJnjEOrC9aGe",
        "colab_type": "text"
      },
      "source": [
        "**Model 3**"
      ]
    },
    {
      "cell_type": "code",
      "metadata": {
        "id": "DUPnwICm-rLT",
        "colab_type": "code",
        "colab": {}
      },
      "source": [
        "model3 = Sequential()\n",
        "\n",
        "model3.add(Conv2D(32, (3,3), input_shape=(ROWS, COLS, CHANNELS), activation='relu'))\n",
        "model3.add(MaxPooling2D(pool_size = (2,2)))\n",
        "\n",
        "model3.add(Conv2D(64, (3,3), activation='relu'))\n",
        "model3.add(MaxPooling2D(pool_size = (2,2)))\n",
        "model3.add(Dropout(0.3))\n",
        "\n",
        "model3.add(Conv2D(128, (3,3), activation='relu'))\n",
        "model3.add(MaxPooling2D(pool_size = (2,2)))\n",
        "\n",
        "model3.add(Conv2D(256, (3,3), activation='relu'))\n",
        "model3.add(MaxPooling2D(pool_size = (2,2)))\n",
        "\n",
        "model3.add(Flatten())\n",
        "model3.add(Dropout(0.3))\n",
        "\n",
        "model3.add(Dense(units=120, activation='relu'))\n",
        "model3.add(Dense(units=2, activation='sigmoid'))"
      ],
      "execution_count": 0,
      "outputs": []
    },
    {
      "cell_type": "code",
      "metadata": {
        "id": "XEUojnBd-tXq",
        "colab_type": "code",
        "outputId": "bab85ae5-a9ce-4843-bb35-9cde5132bab5",
        "colab": {
          "base_uri": "https://localhost:8080/",
          "height": 607
        }
      },
      "source": [
        "model3.compile(optimizer='adam', loss='categorical_crossentropy', metrics=['accuracy'])\n",
        "model3.summary()"
      ],
      "execution_count": 51,
      "outputs": [
        {
          "output_type": "stream",
          "text": [
            "Model: \"sequential_4\"\n",
            "_________________________________________________________________\n",
            "Layer (type)                 Output Shape              Param #   \n",
            "=================================================================\n",
            "conv2d_14 (Conv2D)           (None, 62, 62, 32)        896       \n",
            "_________________________________________________________________\n",
            "max_pooling2d_13 (MaxPooling (None, 31, 31, 32)        0         \n",
            "_________________________________________________________________\n",
            "conv2d_15 (Conv2D)           (None, 29, 29, 64)        18496     \n",
            "_________________________________________________________________\n",
            "max_pooling2d_14 (MaxPooling (None, 14, 14, 64)        0         \n",
            "_________________________________________________________________\n",
            "dropout_7 (Dropout)          (None, 14, 14, 64)        0         \n",
            "_________________________________________________________________\n",
            "conv2d_16 (Conv2D)           (None, 12, 12, 128)       73856     \n",
            "_________________________________________________________________\n",
            "max_pooling2d_15 (MaxPooling (None, 6, 6, 128)         0         \n",
            "_________________________________________________________________\n",
            "conv2d_17 (Conv2D)           (None, 4, 4, 256)         295168    \n",
            "_________________________________________________________________\n",
            "max_pooling2d_16 (MaxPooling (None, 2, 2, 256)         0         \n",
            "_________________________________________________________________\n",
            "flatten_4 (Flatten)          (None, 1024)              0         \n",
            "_________________________________________________________________\n",
            "dropout_8 (Dropout)          (None, 1024)              0         \n",
            "_________________________________________________________________\n",
            "dense_7 (Dense)              (None, 120)               123000    \n",
            "_________________________________________________________________\n",
            "dense_8 (Dense)              (None, 2)                 242       \n",
            "=================================================================\n",
            "Total params: 511,658\n",
            "Trainable params: 511,658\n",
            "Non-trainable params: 0\n",
            "_________________________________________________________________\n"
          ],
          "name": "stdout"
        }
      ]
    },
    {
      "cell_type": "code",
      "metadata": {
        "id": "xVhFiETZ-xoe",
        "colab_type": "code",
        "outputId": "57e3a05b-e7fd-449f-e493-b8014d077b57",
        "colab": {
          "base_uri": "https://localhost:8080/",
          "height": 746
        }
      },
      "source": [
        "model3.fit(X_train_norm, y_train_one_hot, validation_data=(X_val_norm, y_val_one_hot), epochs=20, batch_size = 64)"
      ],
      "execution_count": 52,
      "outputs": [
        {
          "output_type": "stream",
          "text": [
            "Train on 20000 samples, validate on 5000 samples\n",
            "Epoch 1/20\n",
            "20000/20000 [==============================] - 10s 504us/step - loss: 0.6744 - acc: 0.5609 - val_loss: 0.6478 - val_acc: 0.6148\n",
            "Epoch 2/20\n",
            "20000/20000 [==============================] - 9s 471us/step - loss: 0.5777 - acc: 0.6946 - val_loss: 0.5197 - val_acc: 0.7466\n",
            "Epoch 3/20\n",
            "20000/20000 [==============================] - 10s 475us/step - loss: 0.4896 - acc: 0.7656 - val_loss: 0.4488 - val_acc: 0.8024\n",
            "Epoch 4/20\n",
            "20000/20000 [==============================] - 9s 471us/step - loss: 0.4146 - acc: 0.8101 - val_loss: 0.4184 - val_acc: 0.8076\n",
            "Epoch 5/20\n",
            "20000/20000 [==============================] - 9s 471us/step - loss: 0.3674 - acc: 0.8377 - val_loss: 0.3634 - val_acc: 0.8404\n",
            "Epoch 6/20\n",
            "20000/20000 [==============================] - 9s 473us/step - loss: 0.3313 - acc: 0.8539 - val_loss: 0.3535 - val_acc: 0.8400\n",
            "Epoch 7/20\n",
            "20000/20000 [==============================] - 9s 473us/step - loss: 0.3044 - acc: 0.8681 - val_loss: 0.3276 - val_acc: 0.8552\n",
            "Epoch 8/20\n",
            "20000/20000 [==============================] - 10s 478us/step - loss: 0.2776 - acc: 0.8782 - val_loss: 0.3218 - val_acc: 0.8580\n",
            "Epoch 9/20\n",
            "20000/20000 [==============================] - 9s 470us/step - loss: 0.2512 - acc: 0.8931 - val_loss: 0.3113 - val_acc: 0.8644\n",
            "Epoch 10/20\n",
            "20000/20000 [==============================] - 9s 470us/step - loss: 0.2326 - acc: 0.9024 - val_loss: 0.3198 - val_acc: 0.8628\n",
            "Epoch 11/20\n",
            "20000/20000 [==============================] - 9s 473us/step - loss: 0.2152 - acc: 0.9093 - val_loss: 0.3186 - val_acc: 0.8640\n",
            "Epoch 12/20\n",
            "20000/20000 [==============================] - 9s 474us/step - loss: 0.2063 - acc: 0.9125 - val_loss: 0.3217 - val_acc: 0.8684\n",
            "Epoch 13/20\n",
            "20000/20000 [==============================] - 9s 472us/step - loss: 0.1828 - acc: 0.9263 - val_loss: 0.3313 - val_acc: 0.8642\n",
            "Epoch 14/20\n",
            "20000/20000 [==============================] - 9s 471us/step - loss: 0.1704 - acc: 0.9285 - val_loss: 0.3415 - val_acc: 0.8560\n",
            "Epoch 15/20\n",
            "20000/20000 [==============================] - 9s 473us/step - loss: 0.1650 - acc: 0.9310 - val_loss: 0.3588 - val_acc: 0.8664\n",
            "Epoch 16/20\n",
            "20000/20000 [==============================] - 9s 471us/step - loss: 0.1469 - acc: 0.9415 - val_loss: 0.3466 - val_acc: 0.8748\n",
            "Epoch 17/20\n",
            "20000/20000 [==============================] - 10s 477us/step - loss: 0.1419 - acc: 0.9415 - val_loss: 0.3875 - val_acc: 0.8638\n",
            "Epoch 18/20\n",
            "20000/20000 [==============================] - 9s 474us/step - loss: 0.1327 - acc: 0.9461 - val_loss: 0.4213 - val_acc: 0.8598\n",
            "Epoch 19/20\n",
            "20000/20000 [==============================] - 9s 469us/step - loss: 0.1280 - acc: 0.9499 - val_loss: 0.3587 - val_acc: 0.8720\n",
            "Epoch 20/20\n",
            "20000/20000 [==============================] - 9s 475us/step - loss: 0.1115 - acc: 0.9562 - val_loss: 0.3854 - val_acc: 0.8756\n"
          ],
          "name": "stdout"
        },
        {
          "output_type": "execute_result",
          "data": {
            "text/plain": [
              "<keras.callbacks.History at 0x7f4fc0395c88>"
            ]
          },
          "metadata": {
            "tags": []
          },
          "execution_count": 52
        }
      ]
    },
    {
      "cell_type": "markdown",
      "metadata": {
        "id": "dGdugnvhdMw-",
        "colab_type": "text"
      },
      "source": [
        "After applying Dropout as our regularization technique, the amount of overfitting has certainly reduced but our model training accuracy has considerably reduced to 94.40%. This means that if we further increase the dropout for further reducing the overfitting, our training accuracy will decrease drastically. So, we need to increase the trainable parameters more. That means, either we can make our network more deep or remove the MaxPooling2D layer just before the flatten(). We take the 2nd approach. But both approaches can be checked. Moreover, we add the dropout as well so that our model do not overfit."
      ]
    },
    {
      "cell_type": "markdown",
      "metadata": {
        "id": "LTw3iM3hABtB",
        "colab_type": "text"
      },
      "source": [
        "Model 4"
      ]
    },
    {
      "cell_type": "code",
      "metadata": {
        "id": "_y_OB4sD_-T_",
        "colab_type": "code",
        "colab": {}
      },
      "source": [
        "model4 = Sequential()\n",
        "\n",
        "model4.add(Conv2D(32, (3,3), input_shape=(ROWS, COLS, CHANNELS), activation='relu'))\n",
        "model4.add(MaxPooling2D(pool_size = (2,2)))\n",
        "\n",
        "model4.add(Conv2D(64, (3,3), activation='relu'))\n",
        "model4.add(MaxPooling2D(pool_size = (2,2)))\n",
        "model4.add(Dropout(0.4))\n",
        "\n",
        "model4.add(Conv2D(128, (3,3), activation='relu'))\n",
        "model4.add(MaxPooling2D(pool_size = (2,2)))\n",
        "model4.add(Dropout(0.4))\n",
        "\n",
        "model4.add(Conv2D(256, (3,3), activation='relu'))\n",
        "model4.add(MaxPooling2D(pool_size = (2,2)))\n",
        "model4.add(Dropout(0.4))\n",
        "\n",
        "model4.add(Conv2D(512, (1,1), activation='relu'))\n",
        "#model6.add(MaxPooling2D(pool_size = (2,2)))\n",
        "\n",
        "model4.add(Flatten())\n",
        "model4.add(Dropout(0.4))\n",
        "\n",
        "model4.add(Dense(units=120, activation='relu'))\n",
        "model4.add(Dense(units=2, activation='sigmoid'))"
      ],
      "execution_count": 0,
      "outputs": []
    },
    {
      "cell_type": "code",
      "metadata": {
        "id": "w6gbngxYEvxi",
        "colab_type": "code",
        "colab": {
          "base_uri": "https://localhost:8080/",
          "height": 712
        },
        "outputId": "6869e09b-4cb1-44f6-8b54-3504f71e6551"
      },
      "source": [
        "model4.compile(optimizer='adam', loss='categorical_crossentropy', metrics=['accuracy'])\n",
        "model4.summary()"
      ],
      "execution_count": 57,
      "outputs": [
        {
          "output_type": "stream",
          "text": [
            "Model: \"sequential_6\"\n",
            "_________________________________________________________________\n",
            "Layer (type)                 Output Shape              Param #   \n",
            "=================================================================\n",
            "conv2d_23 (Conv2D)           (None, 62, 62, 32)        896       \n",
            "_________________________________________________________________\n",
            "max_pooling2d_21 (MaxPooling (None, 31, 31, 32)        0         \n",
            "_________________________________________________________________\n",
            "conv2d_24 (Conv2D)           (None, 29, 29, 64)        18496     \n",
            "_________________________________________________________________\n",
            "max_pooling2d_22 (MaxPooling (None, 14, 14, 64)        0         \n",
            "_________________________________________________________________\n",
            "dropout_13 (Dropout)         (None, 14, 14, 64)        0         \n",
            "_________________________________________________________________\n",
            "conv2d_25 (Conv2D)           (None, 12, 12, 128)       73856     \n",
            "_________________________________________________________________\n",
            "max_pooling2d_23 (MaxPooling (None, 6, 6, 128)         0         \n",
            "_________________________________________________________________\n",
            "dropout_14 (Dropout)         (None, 6, 6, 128)         0         \n",
            "_________________________________________________________________\n",
            "conv2d_26 (Conv2D)           (None, 4, 4, 256)         295168    \n",
            "_________________________________________________________________\n",
            "max_pooling2d_24 (MaxPooling (None, 2, 2, 256)         0         \n",
            "_________________________________________________________________\n",
            "dropout_15 (Dropout)         (None, 2, 2, 256)         0         \n",
            "_________________________________________________________________\n",
            "conv2d_27 (Conv2D)           (None, 2, 2, 512)         131584    \n",
            "_________________________________________________________________\n",
            "flatten_6 (Flatten)          (None, 2048)              0         \n",
            "_________________________________________________________________\n",
            "dropout_16 (Dropout)         (None, 2048)              0         \n",
            "_________________________________________________________________\n",
            "dense_11 (Dense)             (None, 120)               245880    \n",
            "_________________________________________________________________\n",
            "dense_12 (Dense)             (None, 2)                 242       \n",
            "=================================================================\n",
            "Total params: 766,122\n",
            "Trainable params: 766,122\n",
            "Non-trainable params: 0\n",
            "_________________________________________________________________\n"
          ],
          "name": "stdout"
        }
      ]
    },
    {
      "cell_type": "code",
      "metadata": {
        "id": "LU56g2utEmRX",
        "colab_type": "code",
        "colab": {
          "base_uri": "https://localhost:8080/",
          "height": 746
        },
        "outputId": "ba02e782-c7e4-4c56-8e37-49e3cb20bd0b"
      },
      "source": [
        "model4.fit(X_train_norm, y_train_one_hot, validation_data=(X_val_norm, y_val_one_hot), epochs=20, batch_size = 64)"
      ],
      "execution_count": 58,
      "outputs": [
        {
          "output_type": "stream",
          "text": [
            "Train on 20000 samples, validate on 5000 samples\n",
            "Epoch 1/20\n",
            "20000/20000 [==============================] - 12s 595us/step - loss: 0.6703 - acc: 0.5800 - val_loss: 0.6497 - val_acc: 0.6230\n",
            "Epoch 2/20\n",
            "20000/20000 [==============================] - 11s 526us/step - loss: 0.5834 - acc: 0.6905 - val_loss: 0.5087 - val_acc: 0.7522\n",
            "Epoch 3/20\n",
            "20000/20000 [==============================] - 10s 522us/step - loss: 0.5193 - acc: 0.7443 - val_loss: 0.4816 - val_acc: 0.7780\n",
            "Epoch 4/20\n",
            "20000/20000 [==============================] - 10s 519us/step - loss: 0.4654 - acc: 0.7799 - val_loss: 0.4342 - val_acc: 0.7994\n",
            "Epoch 5/20\n",
            "20000/20000 [==============================] - 10s 520us/step - loss: 0.4378 - acc: 0.7969 - val_loss: 0.5210 - val_acc: 0.7340\n",
            "Epoch 6/20\n",
            "20000/20000 [==============================] - 10s 520us/step - loss: 0.4049 - acc: 0.8170 - val_loss: 0.4108 - val_acc: 0.8102\n",
            "Epoch 7/20\n",
            "20000/20000 [==============================] - 11s 526us/step - loss: 0.3817 - acc: 0.8291 - val_loss: 0.3727 - val_acc: 0.8280\n",
            "Epoch 8/20\n",
            "20000/20000 [==============================] - 10s 519us/step - loss: 0.3696 - acc: 0.8372 - val_loss: 0.3544 - val_acc: 0.8414\n",
            "Epoch 9/20\n",
            "20000/20000 [==============================] - 10s 519us/step - loss: 0.3417 - acc: 0.8506 - val_loss: 0.4265 - val_acc: 0.8008\n",
            "Epoch 10/20\n",
            "20000/20000 [==============================] - 10s 518us/step - loss: 0.3305 - acc: 0.8559 - val_loss: 0.3912 - val_acc: 0.8270\n",
            "Epoch 11/20\n",
            "20000/20000 [==============================] - 10s 516us/step - loss: 0.3202 - acc: 0.8623 - val_loss: 0.3418 - val_acc: 0.8414\n",
            "Epoch 12/20\n",
            "20000/20000 [==============================] - 10s 517us/step - loss: 0.3080 - acc: 0.8651 - val_loss: 0.3093 - val_acc: 0.8634\n",
            "Epoch 13/20\n",
            "20000/20000 [==============================] - 10s 517us/step - loss: 0.2974 - acc: 0.8722 - val_loss: 0.3295 - val_acc: 0.8552\n",
            "Epoch 14/20\n",
            "20000/20000 [==============================] - 10s 518us/step - loss: 0.2968 - acc: 0.8720 - val_loss: 0.3181 - val_acc: 0.8598\n",
            "Epoch 15/20\n",
            "20000/20000 [==============================] - 10s 518us/step - loss: 0.2822 - acc: 0.8785 - val_loss: 0.3002 - val_acc: 0.8712\n",
            "Epoch 16/20\n",
            "20000/20000 [==============================] - 10s 518us/step - loss: 0.2826 - acc: 0.8809 - val_loss: 0.3049 - val_acc: 0.8648\n",
            "Epoch 17/20\n",
            "20000/20000 [==============================] - 11s 529us/step - loss: 0.2688 - acc: 0.8848 - val_loss: 0.2951 - val_acc: 0.8722\n",
            "Epoch 18/20\n",
            "20000/20000 [==============================] - 11s 526us/step - loss: 0.2662 - acc: 0.8881 - val_loss: 0.3061 - val_acc: 0.8646\n",
            "Epoch 19/20\n",
            "20000/20000 [==============================] - 10s 525us/step - loss: 0.2539 - acc: 0.8941 - val_loss: 0.3194 - val_acc: 0.8626\n",
            "Epoch 20/20\n",
            "20000/20000 [==============================] - 10s 523us/step - loss: 0.2519 - acc: 0.8945 - val_loss: 0.2751 - val_acc: 0.8814\n"
          ],
          "name": "stdout"
        },
        {
          "output_type": "execute_result",
          "data": {
            "text/plain": [
              "<keras.callbacks.History at 0x7f4fbab870f0>"
            ]
          },
          "metadata": {
            "tags": []
          },
          "execution_count": 58
        }
      ]
    },
    {
      "cell_type": "markdown",
      "metadata": {
        "id": "l4NtMDq4fGDI",
        "colab_type": "text"
      },
      "source": [
        "This model gives the best accuracy. So we trained it for 50 epochs and the result for which is shown in the \"Final Choosen Model Architecture and Training of Model\" section."
      ]
    },
    {
      "cell_type": "markdown",
      "metadata": {
        "id": "wqhNKZiffWuC",
        "colab_type": "text"
      },
      "source": [
        "You can further twerk the hyperparameter and the model architecture to get even better accuracy. However, I will leave you here.\n",
        "\n",
        "Wish You A Happy Exploring!!"
      ]
    },
    {
      "cell_type": "code",
      "metadata": {
        "id": "MKM5NMCaF2UW",
        "colab_type": "code",
        "colab": {}
      },
      "source": [
        "!pip install -U -q PyDrive\n",
        "from pydrive.auth import GoogleAuth\n",
        "from pydrive.drive import GoogleDrive \n",
        "from google.colab import auth \n",
        "from oauth2client.client import GoogleCredentials"
      ],
      "execution_count": 0,
      "outputs": []
    },
    {
      "cell_type": "code",
      "metadata": {
        "id": "gU4Zu3t4FoFG",
        "colab_type": "code",
        "colab": {}
      },
      "source": [
        "auth.authenticate_user()\n",
        "gauth = GoogleAuth()\n",
        "gauth.credentials = GoogleCredentials.get_application_default()                       \n",
        "drive = GoogleDrive(gauth)"
      ],
      "execution_count": 0,
      "outputs": []
    },
    {
      "cell_type": "code",
      "metadata": {
        "id": "1uxiy7QCFrJu",
        "colab_type": "code",
        "colab": {}
      },
      "source": [
        "model9.save('model9.h5')\n",
        "model9_file = drive.CreateFile({'title' : 'model9.h5'})                       \n",
        "model9_file.SetContentFile('model9.h5')                       \n",
        "model9_file.Upload()"
      ],
      "execution_count": 0,
      "outputs": []
    },
    {
      "cell_type": "code",
      "metadata": {
        "id": "yeNxnagwGH0Y",
        "colab_type": "code",
        "colab": {}
      },
      "source": [
        "model1.save('model1.h5')\n",
        "model1_file = drive.CreateFile({'title' : 'model1.h5'})                       \n",
        "model1_file.SetContentFile('model1.h5')                       \n",
        "model1_file.Upload()"
      ],
      "execution_count": 0,
      "outputs": []
    },
    {
      "cell_type": "code",
      "metadata": {
        "id": "umJ1ZWErGYKN",
        "colab_type": "code",
        "colab": {}
      },
      "source": [
        "model2.save('model2.h5')\n",
        "model2_file = drive.CreateFile({'title' : 'model2.h5'})                       \n",
        "model2_file.SetContentFile('model2.h5')                       \n",
        "model2_file.Upload()"
      ],
      "execution_count": 0,
      "outputs": []
    },
    {
      "cell_type": "code",
      "metadata": {
        "id": "J6LXIpZ_GcHs",
        "colab_type": "code",
        "colab": {}
      },
      "source": [
        "model3.save('model3.h5')\n",
        "model3_file = drive.CreateFile({'title' : 'model3.h5'})                       \n",
        "model3_file.SetContentFile('model3.h5')                       \n",
        "model3_file.Upload()"
      ],
      "execution_count": 0,
      "outputs": []
    },
    {
      "cell_type": "code",
      "metadata": {
        "id": "znwtVwjSGfdP",
        "colab_type": "code",
        "colab": {}
      },
      "source": [
        "model4.save('model4.h5')\n",
        "model4_file = drive.CreateFile({'title' : 'model4.h5'})                       \n",
        "model4_file.SetContentFile('model4.h5')                       \n",
        "model4_file.Upload()"
      ],
      "execution_count": 0,
      "outputs": []
    },
    {
      "cell_type": "code",
      "metadata": {
        "id": "JwRR9KTlGiwU",
        "colab_type": "code",
        "colab": {}
      },
      "source": [
        ""
      ],
      "execution_count": 0,
      "outputs": []
    }
  ]
}